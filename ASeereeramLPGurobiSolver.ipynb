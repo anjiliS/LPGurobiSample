{
  "nbformat": 4,
  "nbformat_minor": 0,
  "metadata": {
    "colab": {
      "provenance": []
    },
    "kernelspec": {
      "name": "python3",
      "display_name": "Python 3"
    },
    "language_info": {
      "name": "python"
    }
  },
  "cells": [
    {
      "cell_type": "code",
      "source": [
        "import numpy as np"
      ],
      "metadata": {
        "id": "V-_JRSyBzZN9"
      },
      "execution_count": 19,
      "outputs": []
    },
    {
      "cell_type": "code",
      "source": [
        "pip install gurobipy"
      ],
      "metadata": {
        "colab": {
          "base_uri": "https://localhost:8080/"
        },
        "id": "pk8Z-Bf8EGZV",
        "outputId": "7182695b-72e2-409e-fe3b-99704dd8e811"
      },
      "execution_count": 24,
      "outputs": [
        {
          "output_type": "stream",
          "name": "stdout",
          "text": [
            "Collecting gurobipy\n",
            "  Downloading gurobipy-12.0.1-cp311-cp311-manylinux2014_x86_64.manylinux_2_17_x86_64.whl.metadata (16 kB)\n",
            "Downloading gurobipy-12.0.1-cp311-cp311-manylinux2014_x86_64.manylinux_2_17_x86_64.whl (14.4 MB)\n",
            "\u001b[2K   \u001b[90m━━━━━━━━━━━━━━━━━━━━━━━━━━━━━━━━━━━━━━━━\u001b[0m \u001b[32m14.4/14.4 MB\u001b[0m \u001b[31m60.9 MB/s\u001b[0m eta \u001b[36m0:00:00\u001b[0m\n",
            "\u001b[?25hInstalling collected packages: gurobipy\n",
            "Successfully installed gurobipy-12.0.1\n"
          ]
        }
      ]
    },
    {
      "cell_type": "code",
      "source": [
        "from gurobipy import Model, GRB"
      ],
      "metadata": {
        "id": "SmKysGsQEJhn"
      },
      "execution_count": 25,
      "outputs": []
    },
    {
      "cell_type": "code",
      "execution_count": 21,
      "metadata": {
        "id": "06lM9zkfVBOK"
      },
      "outputs": [],
      "source": [
        "# Define the technological matrix (A)\n",
        "A_matrix = np.array([\n",
        "    [2.5, 2, 1.8, 1.2],  # Ingredient Prep time constraint\n",
        "    [12, 10, 8, 5],      # Formulation time constraint\n",
        "    [10, 8, 6, 4],       # Packaging time constraint\n",
        "    [0, 0, 0, -1],       # D must be at least 5 (D >= 5 → -D ≥ -5)\n",
        "    [0, 1, 0, -1]        # B - D ≥ 0 (B >= D)\n",
        "])"
      ]
    },
    {
      "cell_type": "code",
      "source": [
        "# Define the RHS vector (b)\n",
        "b_vector = np.array([65, 95, 80, -5, 0])"
      ],
      "metadata": {
        "id": "pwkqixWZydXA"
      },
      "execution_count": 22,
      "outputs": []
    },
    {
      "cell_type": "code",
      "source": [
        "# Define the objective function coefficients (c)\n",
        "c_vector = np.array([20, 18, 15, 8])"
      ],
      "metadata": {
        "id": "tMzsBMXSy_08"
      },
      "execution_count": 23,
      "outputs": []
    },
    {
      "cell_type": "code",
      "source": [
        "# Define the primal LP problem using Gurobi\n",
        "model = Model(\"Primal_LP\")"
      ],
      "metadata": {
        "colab": {
          "base_uri": "https://localhost:8080/"
        },
        "id": "e77joWe1D6e3",
        "outputId": "5151c2d0-bbeb-4845-e7b5-94004775df7d"
      },
      "execution_count": 26,
      "outputs": [
        {
          "output_type": "stream",
          "name": "stdout",
          "text": [
            "Restricted license - for non-production use only - expires 2026-11-23\n"
          ]
        }
      ]
    },
    {
      "cell_type": "code",
      "source": [
        "# Define decision variables (A, B, C, D)\n",
        "variables = model.addVars(4, lb=0, name=[\"A\", \"B\", \"C\", \"D\"])"
      ],
      "metadata": {
        "id": "3Ua_F6_GD6Xl"
      },
      "execution_count": 27,
      "outputs": []
    },
    {
      "cell_type": "code",
      "source": [
        "# Set objective function (maximize profit)\n",
        "model.setObjective(sum(c_vector[i] * variables[i] for i in range(4)), GRB.MAXIMIZE)"
      ],
      "metadata": {
        "id": "bTWwTK6VD6Mm"
      },
      "execution_count": 28,
      "outputs": []
    },
    {
      "cell_type": "code",
      "source": [
        "# Add constraints\n",
        "for i in range(len(A_matrix)):\n",
        "    model.addConstr(sum(A_matrix[i, j] * variables[j] for j in range(4)) <= b_vector[i], f\"Constraint_{i+1}\")"
      ],
      "metadata": {
        "id": "o0mkmLDqEW2C"
      },
      "execution_count": 29,
      "outputs": []
    },
    {
      "cell_type": "code",
      "source": [
        "# Optimize model\n",
        "model.optimize()"
      ],
      "metadata": {
        "colab": {
          "base_uri": "https://localhost:8080/"
        },
        "id": "6BMVuzA2EWuL",
        "outputId": "8e810b6b-8ce1-4b39-997c-9716d2589ca0"
      },
      "execution_count": 30,
      "outputs": [
        {
          "output_type": "stream",
          "name": "stdout",
          "text": [
            "Gurobi Optimizer version 12.0.1 build v12.0.1rc0 (linux64 - \"Ubuntu 22.04.4 LTS\")\n",
            "\n",
            "CPU model: Intel(R) Xeon(R) CPU @ 2.20GHz, instruction set [SSE2|AVX|AVX2]\n",
            "Thread count: 1 physical cores, 2 logical processors, using up to 2 threads\n",
            "\n",
            "Optimize a model with 5 rows, 4 columns and 15 nonzeros\n",
            "Model fingerprint: 0xb59cd3f3\n",
            "Coefficient statistics:\n",
            "  Matrix range     [1e+00, 1e+01]\n",
            "  Objective range  [8e+00, 2e+01]\n",
            "  Bounds range     [0e+00, 0e+00]\n",
            "  RHS range        [5e+00, 1e+02]\n",
            "Presolve removed 1 rows and 0 columns\n",
            "Presolve time: 0.01s\n",
            "Presolved: 4 rows, 4 columns, 14 nonzeros\n",
            "\n",
            "Iteration    Objective       Primal Inf.    Dual Inf.      Time\n",
            "       0    5.7100000e+02   7.205450e+01   0.000000e+00      0s\n",
            "       5    1.7125000e+02   0.000000e+00   0.000000e+00      0s\n",
            "\n",
            "Solved in 5 iterations and 0.02 seconds (0.00 work units)\n",
            "Optimal objective  1.712500000e+02\n"
          ]
        }
      ]
    },
    {
      "cell_type": "code",
      "source": [
        "# Print results\n",
        "if model.status == GRB.OPTIMAL:\n",
        "    print(\"Optimal solution found:\")\n",
        "    print(\"Decision Variables (A, B, C, D):\", [variables[i].x for i in range(4)])\n",
        "    print(\"Optimal Objective Value:\", model.objVal)\n",
        "else:\n",
        "    print(\"No optimal solution found.\")"
      ],
      "metadata": {
        "colab": {
          "base_uri": "https://localhost:8080/"
        },
        "id": "doWY67tGEWjt",
        "outputId": "0c50e52e-afd0-4378-8054-db4c3a7a94bb"
      },
      "execution_count": 31,
      "outputs": [
        {
          "output_type": "stream",
          "name": "stdout",
          "text": [
            "Optimal solution found:\n",
            "Decision Variables (A, B, C, D): [0.0, 0.0, 8.75, 5.0]\n",
            "Optimal Objective Value: 171.25\n"
          ]
        }
      ]
    },
    {
      "cell_type": "code",
      "source": [
        "# Markdown Cell - Formulation of the Dual Problem\n",
        "'''\n",
        "### Dual Formulation:\n",
        "Let \\( y1, y2, y3, y4, y5 \\) be the dual variables corresponding to the constraints:\n",
        "\n",
        "\\[\n",
        "\\min \\quad 65y1 + 95y2 + 80y3 -5y4\n",
        "\\]\n",
        "Subject to:\n",
        "\\[\n",
        "2.5y1 + 12y2 + 10y3 \\geq 20\n",
        "\\]\n",
        "\\[\n",
        "2y1 + 10y2 + 8y3 + y5 \\geq 18\n",
        "\\]\n",
        "\\[\n",
        "1.8y1 + 8y2 + 6y3 \\geq 15\n",
        "\\]\n",
        "\\[\n",
        "1.2y1 + 5y2 + 4y3 - y4 - y5 \\geq 8\n",
        "\\]\n",
        "\\[\n",
        "y1, y2, y3, y4, y5 \\geq 0\n",
        "\\]\n",
        "'''"
      ],
      "metadata": {
        "colab": {
          "base_uri": "https://localhost:8080/",
          "height": 53
        },
        "id": "gH225nI3E-Gq",
        "outputId": "b6986228-4433-4314-bfdf-da4666649715"
      },
      "execution_count": 34,
      "outputs": [
        {
          "output_type": "execute_result",
          "data": {
            "text/plain": [
              "'\\n### Dual Formulation:\\nLet \\\\( y1, y2, y3, y4, y5 \\\\) be the dual variables corresponding to the constraints:\\n\\n\\\\[\\n\\\\min \\\\quad 65y1 + 95y2 + 80y3 -5y4\\n\\\\]\\nSubject to:\\n\\\\[\\n2.5y1 + 12y2 + 10y3 \\\\geq 20\\n\\\\]\\n\\\\[\\n2y1 + 10y2 + 8y3 + y5 \\\\geq 18\\n\\\\]\\n\\\\[\\n1.8y1 + 8y2 + 6y3 \\\\geq 15\\n\\\\]\\n\\\\[\\n1.2y1 + 5y2 + 4y3 - y4 - y5 \\\\geq 8\\n\\\\]\\n\\\\[\\ny1, y2, y3, y4, y5 \\\\geq 0\\n\\\\]\\n'"
            ],
            "application/vnd.google.colaboratory.intrinsic+json": {
              "type": "string"
            }
          },
          "metadata": {},
          "execution_count": 34
        }
      ]
    },
    {
      "cell_type": "code",
      "source": [
        "# Define the dual problem\n",
        "model_dual = Model(\"Dual_LP\")\n",
        "\n",
        "# Define dual decision variables (y1, y2, y3, y4, y5)\n",
        "dual_variables = model_dual.addVars(5, lb=0, name=[\"y1\", \"y2\", \"y3\", \"y4\", \"y5\"])\n",
        "\n",
        "# Set dual objective function (minimize)\n",
        "model_dual.setObjective(sum(b_vector[i] * dual_variables[i] for i in range(5)), GRB.MINIMIZE)\n",
        "\n",
        "# Add dual constraints (transpose of A matrix)\n",
        "for j in range(len(c_vector)):\n",
        "    model_dual.addConstr(sum(A_matrix[i, j] * dual_variables[i] for i in range(5)) >= c_vector[j], f\"Dual_Constraint_{j+1}\")\n",
        "\n",
        "# Optimize dual model\n",
        "model_dual.optimize()\n",
        "\n",
        "# Print dual results\n",
        "if model_dual.status == GRB.OPTIMAL:\n",
        "    print(\"Optimal solution found for Dual LP:\")\n",
        "    print(\"Dual Variables (y1, y2, y3, y4, y5):\", [dual_variables[i].x for i in range(5)])\n",
        "    print(\"Optimal Dual Objective Value:\", model_dual.objVal)\n",
        "else:\n",
        "    print(\"No optimal solution found for Dual LP.\")"
      ],
      "metadata": {
        "colab": {
          "base_uri": "https://localhost:8080/"
        },
        "id": "pdDL0J_wJxGk",
        "outputId": "107d5d3f-7945-42eb-9695-45560be1e9b7"
      },
      "execution_count": 35,
      "outputs": [
        {
          "output_type": "stream",
          "name": "stdout",
          "text": [
            "Gurobi Optimizer version 12.0.1 build v12.0.1rc0 (linux64 - \"Ubuntu 22.04.4 LTS\")\n",
            "\n",
            "CPU model: Intel(R) Xeon(R) CPU @ 2.20GHz, instruction set [SSE2|AVX|AVX2]\n",
            "Thread count: 1 physical cores, 2 logical processors, using up to 2 threads\n",
            "\n",
            "Optimize a model with 4 rows, 5 columns and 15 nonzeros\n",
            "Model fingerprint: 0x05443339\n",
            "Coefficient statistics:\n",
            "  Matrix range     [1e+00, 1e+01]\n",
            "  Objective range  [5e+00, 1e+02]\n",
            "  Bounds range     [0e+00, 0e+00]\n",
            "  RHS range        [8e+00, 2e+01]\n",
            "Presolve time: 0.01s\n",
            "Presolved: 4 rows, 5 columns, 15 nonzeros\n",
            "\n",
            "Iteration    Objective       Primal Inf.    Dual Inf.      Time\n",
            "       0   -5.0000000e+30   1.000000e+30   5.000000e+00      0s\n",
            "       3    1.7125000e+02   0.000000e+00   0.000000e+00      0s\n",
            "\n",
            "Solved in 3 iterations and 0.03 seconds (0.00 work units)\n",
            "Optimal objective  1.712500000e+02\n",
            "Optimal solution found for Dual LP:\n",
            "Dual Variables (y1, y2, y3, y4, y5): [0.0, 1.875, 0.0, 1.375, 0.0]\n",
            "Optimal Dual Objective Value: 171.25\n"
          ]
        }
      ]
    },
    {
      "cell_type": "code",
      "source": [
        "# Write the model to a .lp file\n",
        "model.write(\"model.lp\")"
      ],
      "metadata": {
        "id": "809PNNa0MgNE"
      },
      "execution_count": 36,
      "outputs": []
    },
    {
      "cell_type": "code",
      "source": [
        "# Write the dual model to a .lp file\n",
        "model_dual.write(\"dual_model.lp\")"
      ],
      "metadata": {
        "id": "bZmw-lD3MsIp"
      },
      "execution_count": 37,
      "outputs": []
    }
  ]
}